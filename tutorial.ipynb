{
 "cells": [
  {
   "cell_type": "markdown",
   "metadata": {},
   "source": [
    "## Logistics\n",
    "\n",
    "We are going to use parallel-tempering, implemented via the python emcee package, to explore our posterior, which consists of the set of distances and gas to dust conversion coefficients to the twelve velocity slices. Since we need to explore a 24 dimensional parameter space, we are going to use 100 walkers, 500 steps each, at 5 different temperatures. If you would like to edit this parameters, simply edit \"nwalkers\", \"ntemps\", and \"nsteps\" in the cell below. However, we are only going to keep the lowest temperature chain ($\\beta=1$) for analysis. Since the sampler.chain object from PTSampler returns an array of shape (Ntemps, Nwalkers, Nsteps, Ndim), returning the samples for all walkers, steps, and dimensions at $\\beta=1$ would correspond to sampler.chain[0,:,:,:]. To decrease your value of $\\beta$ simply increase the index for the first dimension. For more information on how PTSampler works, see http://dan.iel.fm/emcee/current/user/pt/. We will set off our walkers in a ball around the kinematic distance estimates for the Cepheus molecular cloud given by a flat rotation curve from Leroy & Rosolowsky 2006. You can edit the starting positions of the walkers by editing the \"result\" variable below. We are going to discard the first 100 steps of every walker's chain as burn-in\n",
    "\n",
    "### Setting up the positional arguments for PTSampler\n",
    "\n",
    "We need to feed PTSampler the required positional arguments for the log_likelihood and log_prior function. We do this using the fetch_args function from the io module, which creates an instance of the pixclass object that holds our data and metadata. Fetch_args accepts three arguments: \n",
    "\n",
    "- A string specifiying the h5 filename containing your data, in our case 89996.h5\n",
    "- The prior bounds you want to impose on a) distances (flat prior), in units of distance modulus and b) gas to dust coefficients (also flat prior). In the script, we multiply our input literature value of choice by this prefactor. The bounds are given as a list in the format [lower_distance, upper_distance, lower_coefficient, upper_coefficient]. For distance, this must be between 4 and 19, because that's the distance modulus range of our stellar posterior array. \n",
    "- The gas-to-dust coefficient you'd like to use, given as a float; for this tutorial, we are pulling a value from the literature of 0.06 magnitudes/K. This value is then multiplied by the set of c coefficients we're determining as part of the parameter estimation problem. \n",
    "\n",
    "Fetch_args will then return the correct arguments for the log_likelihood and log_prior functions within the model module. \n",
    "\n",
    "Here we go!"
   ]
  },
  {
   "cell_type": "code",
   "execution_count": 1,
   "metadata": {
    "collapsed": false,
    "scrolled": false
   },
   "outputs": [
    {
     "name": "stderr",
     "output_type": "stream",
     "text": [
      "/n/home12/czucker/envs/PYTHON3/lib/python3.4/site-packages/IPython/kernel/__init__.py:13: ShimWarning: The `IPython.kernel` package has been deprecated. You should import from ipykernel or jupyter_client instead.\n",
      "  \"You should import from ipykernel or jupyter_client instead.\", ShimWarning)\n"
     ]
    },
    {
     "name": "stdout",
     "output_type": "stream",
     "text": [
      "Total number of stars used in analysis: 3065\n",
      "Setup complete\n"
     ]
    }
   ],
   "source": [
    "import emcee\n",
    "from dustcurve import model\n",
    "import seaborn as sns\n",
    "import numpy as np\n",
    "from dustcurve import pixclass\n",
    "import matplotlib.pyplot as plt\n",
    "import pandas as pd\n",
    "import warnings\n",
    "from dustcurve import io\n",
    "from dustcurve import hputils\n",
    "from dustcurve import kdist\n",
    "%matplotlib inline\n",
    "\n",
    "#this code pulls snippets from the PHYS201 week 9 MCMC notebook written by Vinny Manohoran and the PHYS201 L9 solutions,\n",
    "#written by Tom Dimiduk and Kevin Shain\n",
    "\n",
    "#suppress obnoxious deprecation warning that doesn't affect output\n",
    "warnings.filterwarnings(\"ignore\", category=Warning, module=\"emcee\")\n",
    "\n",
    "fnames='89996.h5'\n",
    "\n",
    "#fetch the required likelihood and prior arguments for PTSampler\n",
    "ldata,pdata=io.fetch_args(fnames,[4,19,0,10],0.06)\n",
    "\n",
    "# the model has 12 parameters; we'll use 50 walkers, 500 steps each, at 5 different temps\n",
    "ndim=24\n",
    "nslices=12\n",
    "nwalkers = 50\n",
    "nsteps = 500\n",
    "ntemps=5\n",
    "\n",
    "#setting off the walkers at the kinematic distance given by the literature, assuming a flat rotation curve, theta=220 km/s, R=8.5 kpc\n",
    "#Details on rotation curve given in Rosolowsky and Leroy 2006\n",
    "vslices=np.linspace(-15.6,-1.3,12)\n",
    "klong=np.ones(12)*109.5\n",
    "klat=np.ones(12)*13.5\n",
    "kdist=kdist.kdist(klong,klat,vslices)\n",
    "kdistmod=5*np.log10(kdist)-5\n",
    "\n",
    "#slightly perturb the starting positions for each walker, in a ball centered around result\n",
    "result=kdistmod.tolist()\n",
    "result.extend(0.06 for i in range (nslices))\n",
    "starting_positions = [[result + 1e-1*np.random.randn(ndim) for i in range(nwalkers)] for j in range(ntemps)]\n",
    "\n",
    "#set up the starting position array and add variance (up to 1 in distance modulus) to each walker \n",
    "starting_positions = [[result + 1e-1*np.random.randn(ndim) for i in range(nwalkers)] for j in range(ntemps)]\n",
    "\n",
    "\n",
    "#set up the sampler object\n",
    "sampler = emcee.PTSampler(ntemps, nwalkers, ndim, model.log_likelihood, model.log_prior, loglargs=(ldata), logpargs=[pdata])\n",
    "\n",
    "#burn in, and save final positions for all parameters, which we'll then set off our walkers at for the \"real\" thing\n",
    "post_burn_pos, prob, state = sampler.run_mcmc(starting_positions, 200)\n",
    "sampler.reset()\n",
    "\n",
    "print(\"Setup complete\")"
   ]
  },
  {
   "cell_type": "code",
   "execution_count": 2,
   "metadata": {
    "collapsed": false
   },
   "outputs": [
    {
     "name": "stdout",
     "output_type": "stream",
     "text": [
      "CPU times: user 4min 21s, sys: 22 ms, total: 4min 21s\n",
      "Wall time: 4min 21s\n",
      "Sampler Done\n"
     ]
    }
   ],
   "source": [
    "# run the sampler and time how long it takes\n",
    "%time sampler.run_mcmc(post_burn_pos, nsteps)\n",
    "print('Sampler Done')"
   ]
  },
  {
   "cell_type": "markdown",
   "metadata": {},
   "source": [
    "The sampler is done running, so now let's check out the results. We are going to print out our mean acceptance fraction across all walkers for the coldest temperature chain. \n",
    "\n",
    "We are going to discard the first 300 steps of each chain as burn-off; to change the number of steps to burn off, simply edit the 3rd dimension of sampler.chain[0,:,n:,:] and input your desired value of n. Next we are going to plot what the chains look like, for each distance parameter and for the first ten walkers. The chains should all be reasonably well-mixed. Finally, we are going to compute and print out the 50th, 16th, and 84th percentile of chain for each distance parameter, using the \"quantile\" attribute of a pandas dataframe object (in our case \"parameter_samples\"). The 50th percentile measurement represents are best guess for the each distance parameter, while the differences between the 16th and 50th gives us a lower limit and the difference between the 50th and 84th percentile gives us an upper limit."
   ]
  },
  {
   "cell_type": "code",
   "execution_count": null,
   "metadata": {
    "collapsed": false
   },
   "outputs": [
    {
     "name": "stdout",
     "output_type": "stream",
     "text": [
      "Our mean acceptance fraction for the coldest chain is 0.07\n",
      "d1: 12.335 + 1.445 - 0.899\n",
      "d2: 11.813 + 1.226 - 0.540\n",
      "d3: 9.597 + 0.236 - 1.787\n",
      "d4: 9.775 + 0.095 - 0.176\n",
      "d5: 10.124 + 2.227 - 0.553\n",
      "d6: 7.473 + 2.123 - 1.137\n",
      "d7: 5.631 + 4.427 - 0.617\n",
      "d8: 10.299 + 1.399 - 3.394\n",
      "d9: 7.294 + 0.669 - 1.133\n",
      "d10: 5.381 + 2.140 - 0.552\n",
      "d11: 6.646 + 0.567 - 1.673\n",
      "d12: 6.050 + 0.781 - 0.371\n",
      "c13: 0.221 + 0.264 - 0.176\n",
      "c14: 1.414 + 2.152 - 0.620\n",
      "c15: 2.285 + 0.133 - 0.571\n",
      "c16: 3.000 + 0.364 - 0.466\n",
      "c17: 1.423 + 0.597 - 0.556\n",
      "c18: 0.193 + 0.163 - 0.156\n",
      "c19: 0.170 + 1.262 - 0.126\n",
      "c20: 0.215 + 0.316 - 0.164\n",
      "c21: 2.451 + 0.271 - 1.040\n",
      "c22: 1.447 + 0.574 - 0.318\n",
      "c23: 3.824 + 1.744 - 1.442\n",
      "c24: 1.106 + 0.887 - 0.775\n"
     ]
    },
    {
     "data": {
      "image/png": "[encoded data removed]",
      "text/plain": [
       "<matplotlib.figure.Figure at 0x2ac2e7eecac8>"
      ]
     },
     "metadata": {},
     "output_type": "display_data"
    }
   ],
   "source": [
    "#Extract the coldest [beta=1] temperature chain from the sampler object; discard first 100 samples as burnin\n",
    "samples_cold = sampler.chain[0,:,100:,:]\n",
    "traces_cold = samples_cold.reshape(-1, ndim).T\n",
    "\n",
    "#check out acceptance fraction:\n",
    "print(\"Our mean acceptance fraction for the coldest chain is %.2f\" % np.mean(sampler.acceptance_fraction[0]))\n",
    "\n",
    "#find best fit values for each of the 24 parameters (12 d's and 12 c's)\n",
    "theta=pd.DataFrame(traces_cold)\n",
    "quantile_50=theta.quantile(.50, axis=1).values\n",
    "quantile_84=theta.quantile(.84, axis=1).values\n",
    "quantile_16=theta.quantile(.16, axis=1).values\n",
    "\n",
    "upperlim=quantile_84-quantile_50\n",
    "lowerlim=quantile_50-quantile_16\n",
    "\n",
    "#print out distances\n",
    "for i in range(0,int(len(quantile_50)/2)):\n",
    "    print('d%i: %.3f + %.3f - %.3f' % (i+1,quantile_50[i],upperlim[i], lowerlim[i]))\n",
    "\n",
    "#print out coefficients\n",
    "for i in range(int(len(quantile_50)/2), int(len(quantile_50))):\n",
    "    print('c%i: %.3f + %.3f - %.3f' % (i+1,quantile_50[i],upperlim[i], lowerlim[i]))\n",
    "    \n",
    "from dustcurve import pixclass\n",
    "\n",
    "unique_co,indices,unique_post,ratio=ldata\n",
    "pixObj=pixclass.PixStars('/n/fink1/czucker/Data/89996.h5')\n",
    "post_array=pixObj.get_p()\n",
    "\n",
    "\n",
    "from dustcurve import plot_posterior\n",
    "#plot the reddening profile over the stacked, normalized stellar posterior surfaces    \n",
    "plot_posterior.plot_posterior(np.asarray(post_array),np.linspace(4,19,120),np.linspace(0,7,700),quantile_50,ratio,unique_co,[4,19],[0,2])\n"
   ]
  },
  {
   "cell_type": "markdown",
   "metadata": {},
   "source": [
    "Let's see what our chains look like..."
   ]
  },
  {
   "cell_type": "code",
   "execution_count": null,
   "metadata": {
    "collapsed": false
   },
   "outputs": [],
   "source": [
    "#set up subplots for chain plotting\n",
    "axes=['ax'+str(i) for i in range(ndim)]\n",
    "fig, (axes) = plt.subplots(ndim, figsize=(5,30))\n",
    "\n",
    "plt.tight_layout()\n",
    "\n",
    "for i in range(0,ndim):\n",
    "    if i<int(ndim/2):\n",
    "        axes[i].set(ylabel='d%i' % i)\n",
    "    else:\n",
    "        axes[i].set(ylabel='c%i' % i)\n",
    "\n",
    "#plot chains for each parameter\n",
    "    for i in range(0,ndim):\n",
    "        sns.tsplot(traces_cold[i],ax=axes[i])\n"
   ]
  },
  {
   "cell_type": "code",
   "execution_count": null,
   "metadata": {
    "collapsed": false
   },
   "outputs": [],
   "source": [
    "import h5py\n",
    "#Save the results of the sampler:\n",
    "output=fnames\n",
    "\n",
    "fwrite = h5py.File(\"/n/fink1/czucker/Output/\"+str(output), \"w\")\n",
    "chaindata = fwrite.create_dataset(\"/chains\", sampler.chain.shape, dtype='f')\n",
    "chaindata[:,:,:,:]=sampler.chain\n",
    "    \n",
    "probdata = fwrite.create_dataset(\"/probs\", sampler.lnprobability.shape, dtype='f')\n",
    "probdata[:,:,:]=sampler.lnprobability\n",
    "\n",
    "\n",
    "fwrite.close()"
   ]
  }
 ],
 "metadata": {
  "kernelspec": {
   "display_name": "Python 3",
   "language": "python",
   "name": "python3"
  },
  "language_info": {
   "codemirror_mode": {
    "name": "ipython",
    "version": 3
   },
   "file_extension": ".py",
   "mimetype": "text/x-python",
   "name": "python",
   "nbconvert_exporter": "python",
   "pygments_lexer": "ipython3",
   "version": "3.4.4"
  }
 },
 "nbformat": 4,
 "nbformat_minor": 0
}
