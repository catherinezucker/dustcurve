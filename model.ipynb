{
 "cells": [
  {
   "cell_type": "markdown",
   "metadata": {},
   "source": [
    "We would like to infer the distance and gas-to-dust coefficient in thirty velocity slices of a spectral cube, covering the molecular cloud complex Cepheus. We would like to do this using the stellar photometry of stars towards Cepheus and the intensity of the carbon monoxide emission in each velocity slice of the spectral cube towards this same region. This is what we ultimately wish to infer: \n",
    "\n",
    "$$p(\\alpha \\mid I, m)$$ \n",
    "\n",
    "where $$\\alpha=(c_1, c_2, ..., c_k ; d_1, d_2, ... , d_k)$$ \n",
    "and...  \n",
    "$c$=gas-to-dust conversion coefficient (30 c's for 30 velocity slices)  \n",
    "$d$=distance to slice (30 d's for 30 velocity slices)  \n",
    "$I$= gas emission intensities that will act as dust templates, and which will be converted to extinction with a gas-to-dust coefficient  \n",
    "$m$= set of stellar photometry for all stars  \n",
    "\n",
    "By doing so, we'll be able to compare our dust-based distances to the velocity slices with the distances to the same slices given by a Galactic rotation curve. \n",
    "\n",
    "Our aim of inferring the distance and gas-to-dust coefficient for each velocity slice starts with inferring the distance and reddening for each individual star in our region of interest.  The probability density of finding an individual star j at distance $\\mu_j$ and with stellar fluxes $m_j$ is given by $p(\\mu_j, E_j | m_j)$ This probability density has already been precomputed in Green et al. 2015, using a kernel density estimate of MCMC samples. We parameterize the line-of-sight reddening profile towards an individual star, $E_j$, with the following model: \n",
    "\n",
    "$$E_{j} (\\mu_j, \\alpha)  = \\sum_{k \\rightarrow d_k < \\mu_j} I_{j,k} \\times c_k$$ \n",
    "\n",
    "with $I_{j,k}$= intensity of gas emission in the pixel corresponding to the jth \\hspace{5em} star in the kth velocity slice and $c_k$= gas to dust conversion coefficient in the kth velocity slice, which we're letting float. We're summing over the emission in all the velocity slices such that the distance to the velocity slice is less than the distance to our star $\\mu$. The form of the reddening profile will be piecewise linear. There will be some uncertainties in the intensity values, but they will be negligible to the final analysis. The greater point of uncertainty is whether our parameterization of the reddening E is even a decent model, but we'll have to think more on that.\n",
    "\n",
    "So, going back to Bayes Rule, we know that: \n",
    "\n",
    "$$p(\\alpha \\mid I, m) = p(I, m \\mid \\alpha) \\times p(\\alpha)=p(I, m \\mid \\alpha) \\times p(c) \\times p(d)$$ \n",
    "\n",
    "with the first term, $p(I, m \\mid \\alpha)$, being our likelihood function and the second terms being our prior functions; we're assuming a flat prior for both c and d \n",
    "\n",
    "According to Green et al. 2014, the likelihood for an individual star is given by \n",
    "\n",
    "$$p(m_j \\mid \\alpha) = \\int p(\\mu_j, E_j(\\mu_j; \\alpha) \\mid m_j) d\\mu_j$$\n",
    "\n",
    "With the likelihood of the entire set of stars given by the product of the individual likelihoods. \n",
    "\n",
    "Where does this come from? We know that the likelihood of the set of stellar photometry also depends on the distance modulus to the star $\\mu$ and the stellar type $\\theta$, so we'll add those in and marginalize over them later. For the next few steps, we're going to drop the j subscript, since we know we're talking about a single star: \n",
    "\n",
    "$$p(m \\mid \\alpha) = \\int d\\mu d\\theta p(m, \\mu, \\theta \\mid \\alpha)$$ \n",
    "$$= \\int d\\mu d\\theta p(m \\mid  \\mu, \\theta, \\alpha) p(\\mu, \\theta \\mid \\alpha)$$\n",
    "$$= \\int d\\mu d\\theta p(m \\mid \\mu, \\theta, E(\\mu;\\alpha))p(\\mu, \\theta)$$\n",
    "\n",
    "In the last step, we are assuming that the reddening profile extinction is defined by the $\\alpha$ parameters; we are also assuming that the join prior on distance $\\mu$ and stellar type $\\theta$ are independent of E. \n",
    "\n",
    "The integrand in the last equation is basically (up to a normalizing constant) a prior times a likelihood, so our likelihood is essentially the integral of the posterior density $p(\\mu,E, \\theta \\mid m)$ \n",
    "\n",
    "However, we don't really care about stellar type, so we are going to marginalize over it; adding back in the j subscript, for the jth star, this leaves us with... \n",
    "\n",
    "$$p(m_j \\mid \\alpha) = \\int p(\\mu_j, E_j(\\mu_j; \\alpha) \\mid m_j) d\\mu_j$$\n",
    "\n",
    "Now understanding where this expression comes, we can put everything together and determine the posterior probability density of the $\\alpha$ parameters by taking the product over line integrals through the individual stellar probability density functions (already precomputed), along the reddening profile for the star, $E_j (\\mu_j; \\alpha)$: \n",
    "\n",
    "$$p(\\alpha \\mid I, m) \\propto p(c) \\times p(d) \\prod_j \\int p(\\mu_j, E_j(\\mu_j; \\alpha) \\mid m_j, I) d\\mu_j$$\n",
    "\n",
    "This is what what we'll ultimately have to sample from, using affine-invariant MCMC analysis. "
   ]
  },
  {
   "cell_type": "code",
   "execution_count": null,
   "metadata": {
    "collapsed": true
   },
   "outputs": [],
   "source": []
  }
 ],
 "metadata": {
  "kernelspec": {
   "display_name": "Python 3",
   "language": "python",
   "name": "python3"
  },
  "language_info": {
   "codemirror_mode": {
    "name": "ipython",
    "version": 3
   },
   "file_extension": ".py",
   "mimetype": "text/x-python",
   "name": "python",
   "nbconvert_exporter": "python",
   "pygments_lexer": "ipython3",
   "version": "3.5.1"
  }
 },
 "nbformat": 4,
 "nbformat_minor": 0
}
