{
 "cells": [
  {
   "cell_type": "markdown",
   "metadata": {},
   "source": [
    "We would like to infer the distance and gas-to-dust coefficient in twelve velocity slices of a spectral cube, covering the molecular cloud complex Cepheus. We would like to do this using the stellar photometry of stars towards Cepheus and the intensity of the carbon monoxide emission in each velocity slice of the spectral cube towards this same region. This is what we ultimately wish to infer: \n",
    "\n",
    "$$p(\\alpha \\mid I, m)$$ \n",
    "\n",
    "where $$\\alpha=(c_1, c_2, ..., c_k ; d_1, d_2, ... , d_k)$$ \n",
    "and...  \n",
    "$c$=gas-to-dust conversion coefficient (12 c's for 12 velocity slices)  \n",
    "$d$=distance to slice (12 d's for 12 velocity slices)  \n",
    "$I$= gas emission intensities that will act as dust templates, and which will be converted to extinction with a gas-to-dust coefficient  \n",
    "$m$= set of stellar photometry for all stars  \n",
    "\n",
    "By doing so, we'll be able to compare our dust-based distances to the velocity slices with the distances to the same slices given by a Galactic rotation curve. \n",
    "\n",
    "Our aim of inferring the distance and gas-to-dust coefficient for each velocity slice starts with inferring the distance and reddening for each individual star in our region of interest.  The probability density of finding an individual star j at distance $\\mu_j$ and with stellar fluxes $m_j$ is given by $p(\\mu_j, E_j | m_j)$ This probability density has already been precomputed in Green et al. 2015, using a kernel density estimate of MCMC samples. We parameterize the line-of-sight reddening profile towards an individual star, $E_j$, with the following model: \n",
    "\n",
    "$$E_{j} (\\mu_j, \\alpha)  = \\sum_{k \\rightarrow d_k < \\mu_j} I_{j,k} \\times c_k$$ \n",
    "\n",
    "with $I_{j,k}$= intensity of gas emission in the pixel corresponding to the jth star in the kth velocity slice and $c_k$= gas to dust conversion coefficient in the kth velocity slice, which we're letting float. We're summing over the emission in all the velocity slices such that the distance to the velocity slice is less than the distance to our star $\\mu$. The form of the reddening profile will be piecewise linear. There will be some uncertainties in the intensity values, but they will be negligible to the final analysis. The greater point of uncertainty is whether our parameterization of the reddening E is even a decent model, but we'll have to think more on that.\n",
    "\n",
    "So, going back to Bayes Rule, we know that: \n",
    "\n",
    "$$p(\\alpha \\mid I, m) \\propto p(I, m \\mid \\alpha) \\times p(\\alpha) \\propto p(I, m \\mid \\alpha) \\times p(c) \\times p(d)$$ \n",
    "\n",
    "with the first term, $p(I, m \\mid \\alpha)$, being our likelihood function and the second terms being our prior functions; we're assuming a flat prior for both c and d \n",
    "\n",
    "According to Green et al. 2014, the likelihood for an individual star is given by \n",
    "\n",
    "$$p(m_j \\mid \\alpha) \\propto \\int p(\\mu_j, E_j(\\mu_j; \\alpha) \\mid m_j) \\; d\\mu_j$$\n",
    "\n",
    "With the likelihood of the entire set of stars given by the product of the individual likelihoods. \n",
    "\n",
    "Where does this come from? We know that the likelihood of the set of stellar photometry also depends on the distance modulus to the star $\\mu$ and the stellar type $\\theta$, so we'll add those in and marginalize over them later. For the next few steps, we're going to drop the j subscript, since we know we're talking about a single star: \n",
    "\n",
    "$$p(m \\mid \\alpha) \\propto \\int d\\mu \\; d\\theta \\; p(m, \\mu, \\theta \\mid \\alpha)$$ \n",
    "$$\\propto \\int d\\mu \\; d\\theta \\; p(m \\mid  \\mu, \\theta, \\alpha) p(\\mu, \\theta \\mid \\alpha)$$\n",
    "$$\\propto \\int d\\mu \\; d\\theta \\; p(m \\mid \\mu, \\theta, E(\\mu;\\alpha))p(\\mu, \\theta)$$\n",
    "\n",
    "In the last step, we are assuming that the reddening profile extinction is defined by the $\\alpha$ parameters; we are also assuming that the join prior on distance $\\mu$ and stellar type $\\theta$ are independent of E. \n",
    "\n",
    "The integrand in the last equation is basically (up to a normalizing constant) a prior times a likelihood, so our likelihood is essentially the integral of the posterior density $p(\\mu,E, \\theta \\mid m)$ \n",
    "\n",
    "However, we don't really care about stellar type, so we are going to marginalize over it; adding back in the j subscript, for the jth star, this leaves us with... \n",
    "\n",
    "$$p(m_j \\mid \\alpha) \\propto \\int p(\\mu_j, E_j(\\mu_j; \\alpha) \\mid m_j)\\; d\\mu_j$$\n",
    "\n",
    "Now understanding where this expression comes, we can put everything together and determine the posterior probability density of the $\\alpha$ parameters by taking the product over line integrals through the individual stellar probability density functions (already precomputed), along the reddening profile for the star, $E_j (\\mu_j; \\alpha)$: \n",
    "\n",
    "$$p(\\alpha \\mid I, m) \\propto p(c) \\times p(d) \\prod_j \\int p(\\mu_j, E_j(\\mu_j; \\alpha) \\mid m_j, I) \\; d\\mu_j$$\n",
    "\n",
    "This is what what we'll ultimately have to sample from, using Metropolis-Hastings MCMC analysis. "
   ]
  },
  {
   "cell_type": "markdown",
   "metadata": {
    "collapsed": true
   },
   "source": [
    "Now we need to do some code testing using simulated data, to ensure that our code is functioning properly. To do this, we need to produce simulated data such that we know what the \"true\" answer is for the parameter estimation problem we are trying to solve. To do this, I am going to create a reddening \"profile\" or a plot of the cumulative reddening as a function of distance. In this profile, there are going to be two clouds along the line of sight, corresponding to two jumps in reddening in our reddening profile. We are going to have our reddening profile look like this: \n"
   ]
  },
  {
   "cell_type": "code",
   "execution_count": 1,
   "metadata": {
    "collapsed": false
   },
   "outputs": [
    {
     "data": {
      "image/png": "[encoded data removed]",
      "text/plain": [
       "<matplotlib.figure.Figure at 0x1066e4908>"
      ]
     },
     "metadata": {},
     "output_type": "display_data"
    }
   ],
   "source": [
    "import numpy as np\n",
    "import matplotlib.pyplot as plt\n",
    "%matplotlib inline\n",
    "\n",
    "distance=np.array([4,7.75,7.75,14,14,19])\n",
    "fake_reddening=np.array([0,0,2,2,5,5])\n",
    "\n",
    "plt.plot(distance, fake_reddening,lw=5)\n",
    "plt.xlabel(r'Distance Modulus')\n",
    "plt.ylabel('Reddening')\n",
    "plt.xlim(4,19)\n",
    "plt.ylim(0,7)\n",
    "plt.title(\"Our Contrived Reddening Profile\")\n",
    "plt.savefig(\"contrived_profile.pdf\")"
   ]
  },
  {
   "cell_type": "markdown",
   "metadata": {
    "collapsed": true
   },
   "source": [
    "From the reddening profile, we can tell that this is a two cloud model towards a specific line of sight. We see that there are no clouds (and thus no reddening) between a distance modulus of 4 and 7.75. Then, we see that there's a cloud of dust at 7.75 which adds 2 magnitudes of reddening to our profile. Then we see that there's a second dust cloud at a distance modulus of 14 that adds 3 magnitudes of reddening to our profile, bringing our cumulative reddening at distance modulus 14 and beyond up to 5 magnitudes. "
   ]
  },
  {
   "cell_type": "markdown",
   "metadata": {},
   "source": [
    "So, now we need to produce some stellar posterior data (700x120 arrays of reddening vs. distance) to match our contrived profile. To do this, we are going to randomly sprinkle 50 stars along the line of sight. Since we are working with stellar posterior arrays, we are going to mentally convert everything from actual distance/reddening to distance and reddening bins in the stellar posterior arrays. Axis 0 of the array (the vertical axis) has a reddening range from 0-7 magnitudes, $\\Delta_{reddening}$=0.01 magnitudes (total of 700 bins). Axis 0 of the array (the horizontal axis) has a distance modulus range from 4-19, so $\\Delta_{distmod}$=0.125 (total of 120 bins). Our clouds in our contrived reddening profile correspond to distance modulus bins of 30 and 80, and reddening bins of 200 and 500. So now we randomly sprinkle 50 stars along the distance axis of the array, and then look up the reddening those stars should have based on our reddening profile. To produce the posterior for a single star we draw 1000 random samples from bivariate normal distribution with a mean centered at the randomly generated distance and the corresponding reddening value given by the reddening profile. We let the standard deviation of the bivariate normal distribution be 0.1 in both distance and reddenings, resulting in \"puffy\" clouds. We then use the samples to populate a 2D histogram, which is now my 700x120 stellar posterior array for a single star. We repeat this 49 more times for 49 more stars. This is how we code that: "
   ]
  },
  {
   "cell_type": "code",
   "execution_count": 2,
   "metadata": {
    "collapsed": false
   },
   "outputs": [],
   "source": [
    "import pandas as pd\n",
    "\n",
    "nstars=50\n",
    "\n",
    "#randomly sprinkle 50 stars at 50 distances along the posterior horizontal axis (total bins=120)\n",
    "randdist=np.random.randint(0,119,50)\n",
    "\n",
    "#create our array to hold the corresponding reddening values taken from our contrived reddening profile \n",
    "red=np.empty(nstars)\n",
    "\n",
    "for i in range(0,nstars):\n",
    "    if randdist[i] < 30: #no clouds at a distance modulus bin <30, so reddening is zero\n",
    "        red[i]=0\n",
    "    \n",
    "    if randdist[i] >= 30 and randdist[i] < 80: #one cloud between distance modulus bin of 30-80 (with reddening=2 mags)\n",
    "        red[i]=200\n",
    "    \n",
    "    if randdist[i] >= 80: #two cloud between distance modulus bin of 80-120 (with cumulative reddening=5 mags)\n",
    "        red[i]=500\n",
    "\n",
    "#create array to hold our stellar posterior information \n",
    "post_array=np.empty((nstars,700,120))\n",
    "\n",
    "#repeat 50 times for 50 stars\n",
    "for i in range(0,nstars):\n",
    "    mean=np.array([randdist[i],red[i]]) #mean of bivariate normal distribution set to random distance and corresponding reddening value\n",
    "    cov=np.array([[1,0],[0,100]]) #standard deviations of 0.1 in both reddening and distance modulus, converted to the number of bins that corresponds to on each axis\n",
    "    data = np.random.multivariate_normal(mean, cov, 1000) #draw samples from that distribution\n",
    "    df = pd.DataFrame(data, columns=[\"mu\", \"E\"])\n",
    "    H, yedges, xedges = np.histogram2d(df['E'],df['mu'],bins=[700,120], range=[[0, 700], [0, 120]]) #use those samples to create 2dhistogram, our stellar posterior!\n",
    "    post_array[i,:,:]=H #store the posterior array for that star\n"
   ]
  },
  {
   "cell_type": "markdown",
   "metadata": {},
   "source": [
    "I've plotted below what the posterior would look like if you stacked all the individual stellar posteriors on top of eachother (i.e. you summed along the depth axis). See that it looks similar to our contrived reddening profile, which is what we want! Note that the x and y axes correspond to the bin indices. When we integrate over distance modulus in our likelihood function, we only care about the reddening \"ledges\". We'll perform this integral from distance modulus=4 to distance modulus=19, over the entire length of the stellar posterior array for each individual star. "
   ]
  },
  {
   "cell_type": "code",
   "execution_count": 3,
   "metadata": {
    "collapsed": false
   },
   "outputs": [
    {
     "data": {
      "image/png": "[encoded data removed]",
      "text/plain": [
       "<matplotlib.figure.Figure at 0x1066e4828>"
      ]
     },
     "metadata": {},
     "output_type": "display_data"
    }
   ],
   "source": [
    "sumarray=np.sum(post_array, axis=0)\n",
    "\n",
    "fig = plt.figure()\n",
    "ax = fig.add_subplot(1,1,1)\n",
    "ax.set_xlabel(r'$\\mu$', fontsize=16)\n",
    "ax.set_ylabel(r'$\\mathrm{E} \\left( B - V \\right)$', fontsize=16)\n",
    "ax.imshow(sumarray, origin='lower',aspect='auto', cmap='bwr', interpolation='nearest')\n",
    "ax.set_title(\"Our Stacked Stellar Posterior\")\n",
    "plt.savefig(\"simulated_stacked.pdf\")"
   ]
  },
  {
   "cell_type": "markdown",
   "metadata": {},
   "source": [
    "Now we are going to make some fake CO (carbon monoxide) data to go with our fake stellar posteriors. We have 12 CO intensity values for each star (for 12 CO velocity slices). The set of intensity values will be the same for each star, since they are all presumed to be along the same line of sight. Our fake reddening profile corresponds to two clouds (two CO emission features) at two different velocity slices. The first cloud has a reddening of 2 magnitudes, producing a cumulative reddening of 2 magnitudes. The second cloud has a reddening of 3 magnitudes, producing a cumulative reddening of 5 magnitudes (3 from itself and 2 from the other cloud). Setting our gas to dust coefficient to one for testing purposes, this means that we need to set one slice to CO intensity (\"CO_I\") value of 2 and the second slice to a CO intensity value of 3. All the other velocity slice intensities will be set to zero, because we are assuming there are only two clouds in all the slices. \n",
    "\n",
    "It doesn't really matter which two slices we put our clouds in (it only matters what distances our parameter estimation problem gives us for the two slices). Thus, let's put the first cloud (CO_I=2) in velocity slice 7 and our second cloud (CO_I=3) in velocity slice 11.  So for a single star, our CO intensities for velocity slices 1-12 look like this: [0,0,0,0,0,0,2,0,0,0,0,3,0]. Now we have a stellar posterior array and a CO intensity array for every star. We write all this information out into a \"simulated_data.h5\" file:"
   ]
  },
  {
   "cell_type": "code",
   "execution_count": 4,
   "metadata": {
    "collapsed": false
   },
   "outputs": [],
   "source": [
    "import h5py\n",
    "\n",
    "nstars=50\n",
    "nslices=12\n",
    "\n",
    "fwrite = h5py.File(\"simulated_data_for_nb.h5\", \"w\")\n",
    "pdfs = fwrite.create_dataset(\"/stellar_pdfs\", (nstars,700,120), dtype='f')\n",
    "pdfs[:,:,:]=post_array #write our stellar posterior arrays calculated above to an hdf5 dataset\n",
    "\n",
    "intensity=np.array([0,0,0,0,0,0,2,0,0,0,3,0]) #our identical CO array for every star\n",
    "\n",
    "co_array=np.empty((nstars,12)) \n",
    "\n",
    "for i in range(0,nstars):\n",
    "    co_array[i,:]=intensity\n",
    "\n",
    "co_data = fwrite.create_dataset(\"/co_data\", (nstars,nslices), dtype='f')\n",
    "co_data[:,:]=co_array #write our co arrays to an hdf5 dataset\n",
    "\n",
    "fwrite.close()"
   ]
  },
  {
   "cell_type": "markdown",
   "metadata": {},
   "source": [
    "Based on our stellar posterior and CO data, we know what the values of d7 (the distance to velocity slice 7) and d11 (the distance to velocity slice 11) SHOULD be. D7 needs to be before D11, at a distance modulus of 7.75 and D11 needs to be at a distance modulus of 14. Having those velocity slices correspond to those distances will produce the highest value of the line integral along our reddening profile (see initial reddening profile figure), which is essentially our likelihood function. We also know what our gas-to-dust coefficients for those two slices to be, because we created the two jumps in reddening such that there is a 1:1 ratio between gas and dust (since the clouds contribute 2 and 3 magnitudes of reddening, and we engineered the CO intensity to be 2 and 3 K). \n",
    "\n",
    "Affine-Invariant sampling failed tremendously for this problem, so we are going to use Metropolis-Hastings MCMC because this produces well mixed chains. To ensure that we aren't getting the \"right\" answer by chance, we are going to set our walkers off near completely random integers within our allowable distance modulus range, using pos_array=[np.random.randint(4,19) for i in range(ndim)]. If our walkers can find their way back to the \"true\" values of their slices (d7=7.75 and d11=14) we know our code works. We are going to do the same thing with the gas to dust coefficients, and hope they can find their way back to 1. \n",
    "It doesn't have to be *exact* (because we'd need a lot more simulated stars along the line of sight to make it perfect) but it does have to be close. Here we go..."
   ]
  },
  {
   "cell_type": "code",
   "execution_count": 6,
   "metadata": {
    "collapsed": false
   },
   "outputs": [
    {
     "name": "stdout",
     "output_type": "stream",
     "text": [
      "[  8.00327972   8.23484674   9.02933479   9.04391038  10.97921786\n",
      "  12.06499549  12.96073427  16.00137536  17.05875388  17.77333857\n",
      "  17.87650743  18.153675  ]\n",
      "hi\n"
     ]
    },
    {
     "ename": "NameError",
     "evalue": "name 'dist_array' is not defined",
     "output_type": "error",
     "traceback": [
      "\u001b[0;31m---------------------------------------------------------------------------\u001b[0m",
      "\u001b[0;31mNameError\u001b[0m                                 Traceback (most recent call last)",
      "\u001b[0;32m<ipython-input-6-67d321cb97d1>\u001b[0m in \u001b[0;36m<module>\u001b[0;34m()\u001b[0m\n\u001b[1;32m     34\u001b[0m \u001b[0;34m\u001b[0m\u001b[0m\n\u001b[1;32m     35\u001b[0m \u001b[0;31m# set up and run the sampler 30 different times, and create array of chains\u001b[0m\u001b[0;34m\u001b[0m\u001b[0;34m\u001b[0m\u001b[0m\n\u001b[0;32m---> 36\u001b[0;31m \u001b[0msampler\u001b[0m\u001b[0;34m.\u001b[0m\u001b[0mrun_mcmc\u001b[0m\u001b[0;34m(\u001b[0m\u001b[0mstarting_positions\u001b[0m\u001b[0;34m[\u001b[0m\u001b[0;36m0\u001b[0m\u001b[0;34m]\u001b[0m\u001b[0;34m,\u001b[0m\u001b[0mnsteps\u001b[0m\u001b[0;34m)\u001b[0m\u001b[0;34m\u001b[0m\u001b[0m\n\u001b[0m\u001b[1;32m     37\u001b[0m \u001b[0;32mfor\u001b[0m \u001b[0mi\u001b[0m \u001b[0;32min\u001b[0m \u001b[0mrange\u001b[0m\u001b[0;34m(\u001b[0m\u001b[0mnwalkers\u001b[0m\u001b[0;34m)\u001b[0m\u001b[0;34m:\u001b[0m\u001b[0;34m\u001b[0m\u001b[0m\n\u001b[1;32m     38\u001b[0m         \u001b[0msampler\u001b[0m\u001b[0;34m.\u001b[0m\u001b[0mrun_mcmc\u001b[0m\u001b[0;34m(\u001b[0m\u001b[0msampler\u001b[0m\u001b[0;34m.\u001b[0m\u001b[0mchain\u001b[0m\u001b[0;34m[\u001b[0m\u001b[0;34m-\u001b[0m\u001b[0;36m1\u001b[0m\u001b[0;34m,\u001b[0m\u001b[0;34m:\u001b[0m\u001b[0;34m]\u001b[0m\u001b[0;34m,\u001b[0m\u001b[0mnsteps\u001b[0m\u001b[0;34m)\u001b[0m\u001b[0;34m\u001b[0m\u001b[0m\n",
      "\u001b[0;32m//anaconda/lib/python3.5/site-packages/emcee-2.1.0-py3.5.egg/emcee/sampler.py\u001b[0m in \u001b[0;36mrun_mcmc\u001b[0;34m(self, pos0, N, rstate0, lnprob0, **kwargs)\u001b[0m\n\u001b[1;32m    155\u001b[0m         \"\"\"\n\u001b[1;32m    156\u001b[0m         for results in self.sample(pos0, lnprob0, rstate0, iterations=N,\n\u001b[0;32m--> 157\u001b[0;31m                                    **kwargs):\n\u001b[0m\u001b[1;32m    158\u001b[0m             \u001b[0;32mpass\u001b[0m\u001b[0;34m\u001b[0m\u001b[0m\n\u001b[1;32m    159\u001b[0m         \u001b[0;32mreturn\u001b[0m \u001b[0mresults\u001b[0m\u001b[0;34m\u001b[0m\u001b[0m\n",
      "\u001b[0;32m//anaconda/lib/python3.5/site-packages/emcee-2.1.0-py3.5.egg/emcee/mh.py\u001b[0m in \u001b[0;36msample\u001b[0;34m(self, p0, lnprob, randomstate, thin, storechain, iterations)\u001b[0m\n\u001b[1;32m     96\u001b[0m         \u001b[0mp\u001b[0m \u001b[0;34m=\u001b[0m \u001b[0mnp\u001b[0m\u001b[0;34m.\u001b[0m\u001b[0marray\u001b[0m\u001b[0;34m(\u001b[0m\u001b[0mp0\u001b[0m\u001b[0;34m)\u001b[0m\u001b[0;34m\u001b[0m\u001b[0m\n\u001b[1;32m     97\u001b[0m         \u001b[0;32mif\u001b[0m \u001b[0mlnprob\u001b[0m \u001b[0;32mis\u001b[0m \u001b[0;32mNone\u001b[0m\u001b[0;34m:\u001b[0m\u001b[0;34m\u001b[0m\u001b[0m\n\u001b[0;32m---> 98\u001b[0;31m             \u001b[0mlnprob\u001b[0m \u001b[0;34m=\u001b[0m \u001b[0mself\u001b[0m\u001b[0;34m.\u001b[0m\u001b[0mget_lnprob\u001b[0m\u001b[0;34m(\u001b[0m\u001b[0mp\u001b[0m\u001b[0;34m)\u001b[0m\u001b[0;34m\u001b[0m\u001b[0m\n\u001b[0m\u001b[1;32m     99\u001b[0m \u001b[0;34m\u001b[0m\u001b[0m\n\u001b[1;32m    100\u001b[0m         \u001b[0;31m# Resize the chain in advance.\u001b[0m\u001b[0;34m\u001b[0m\u001b[0;34m\u001b[0m\u001b[0m\n",
      "\u001b[0;32m//anaconda/lib/python3.5/site-packages/emcee-2.1.0-py3.5.egg/emcee/sampler.py\u001b[0m in \u001b[0;36mget_lnprob\u001b[0;34m(self, p)\u001b[0m\n\u001b[1;32m    114\u001b[0m     \u001b[0;32mdef\u001b[0m \u001b[0mget_lnprob\u001b[0m\u001b[0;34m(\u001b[0m\u001b[0mself\u001b[0m\u001b[0;34m,\u001b[0m \u001b[0mp\u001b[0m\u001b[0;34m)\u001b[0m\u001b[0;34m:\u001b[0m\u001b[0;34m\u001b[0m\u001b[0m\n\u001b[1;32m    115\u001b[0m         \u001b[0;34m\"\"\"Return the log-probability at the given position.\"\"\"\u001b[0m\u001b[0;34m\u001b[0m\u001b[0m\n\u001b[0;32m--> 116\u001b[0;31m         \u001b[0;32mreturn\u001b[0m \u001b[0mself\u001b[0m\u001b[0;34m.\u001b[0m\u001b[0mlnprobfn\u001b[0m\u001b[0;34m(\u001b[0m\u001b[0mp\u001b[0m\u001b[0;34m,\u001b[0m \u001b[0;34m*\u001b[0m\u001b[0mself\u001b[0m\u001b[0;34m.\u001b[0m\u001b[0margs\u001b[0m\u001b[0;34m,\u001b[0m \u001b[0;34m**\u001b[0m\u001b[0mself\u001b[0m\u001b[0;34m.\u001b[0m\u001b[0mkwargs\u001b[0m\u001b[0;34m)\u001b[0m\u001b[0;34m\u001b[0m\u001b[0m\n\u001b[0m\u001b[1;32m    117\u001b[0m \u001b[0;34m\u001b[0m\u001b[0m\n\u001b[1;32m    118\u001b[0m     \u001b[0;32mdef\u001b[0m \u001b[0mreset\u001b[0m\u001b[0;34m(\u001b[0m\u001b[0mself\u001b[0m\u001b[0;34m)\u001b[0m\u001b[0;34m:\u001b[0m\u001b[0;34m\u001b[0m\u001b[0m\n",
      "\u001b[0;32m/Users/catherinezucker/dustcurve/dustcurve/model.py\u001b[0m in \u001b[0;36mlog_posterior\u001b[0;34m(theta, co_array, post_array, n_stars)\u001b[0m\n\u001b[1;32m    145\u001b[0m     \"\"\"\n\u001b[1;32m    146\u001b[0m     \u001b[0md1\u001b[0m\u001b[0;34m,\u001b[0m\u001b[0md2\u001b[0m\u001b[0;34m,\u001b[0m\u001b[0md3\u001b[0m\u001b[0;34m,\u001b[0m\u001b[0md4\u001b[0m\u001b[0;34m,\u001b[0m\u001b[0md5\u001b[0m\u001b[0;34m,\u001b[0m\u001b[0md6\u001b[0m\u001b[0;34m,\u001b[0m\u001b[0md7\u001b[0m\u001b[0;34m,\u001b[0m\u001b[0md8\u001b[0m\u001b[0;34m,\u001b[0m\u001b[0md9\u001b[0m\u001b[0;34m,\u001b[0m\u001b[0md10\u001b[0m\u001b[0;34m,\u001b[0m\u001b[0md11\u001b[0m\u001b[0;34m,\u001b[0m\u001b[0md12\u001b[0m\u001b[0;34m,\u001b[0m\u001b[0mc1\u001b[0m\u001b[0;34m,\u001b[0m\u001b[0mc2\u001b[0m\u001b[0;34m,\u001b[0m\u001b[0mc3\u001b[0m\u001b[0;34m,\u001b[0m\u001b[0mc4\u001b[0m\u001b[0;34m,\u001b[0m\u001b[0mc5\u001b[0m\u001b[0;34m,\u001b[0m\u001b[0mc6\u001b[0m\u001b[0;34m,\u001b[0m\u001b[0mc7\u001b[0m\u001b[0;34m,\u001b[0m\u001b[0mc8\u001b[0m\u001b[0;34m,\u001b[0m\u001b[0mc9\u001b[0m\u001b[0;34m,\u001b[0m\u001b[0mc10\u001b[0m\u001b[0;34m,\u001b[0m\u001b[0mc11\u001b[0m\u001b[0;34m,\u001b[0m\u001b[0mc12\u001b[0m \u001b[0;34m=\u001b[0m \u001b[0mtheta\u001b[0m\u001b[0;34m\u001b[0m\u001b[0m\n\u001b[0;32m--> 147\u001b[0;31m     \u001b[0;32mreturn\u001b[0m \u001b[0mlog_prior\u001b[0m\u001b[0;34m(\u001b[0m\u001b[0mtheta\u001b[0m\u001b[0;34m)\u001b[0m \u001b[0;34m+\u001b[0m \u001b[0mlog_likelihood\u001b[0m\u001b[0;34m(\u001b[0m\u001b[0mtheta\u001b[0m\u001b[0;34m,\u001b[0m \u001b[0mco_array\u001b[0m\u001b[0;34m,\u001b[0m \u001b[0mpost_array\u001b[0m\u001b[0;34m,\u001b[0m \u001b[0mn_stars\u001b[0m\u001b[0;34m)\u001b[0m\u001b[0;34m\u001b[0m\u001b[0m\n\u001b[0m",
      "\u001b[0;32m/Users/catherinezucker/dustcurve/dustcurve/model.py\u001b[0m in \u001b[0;36mlog_likelihood\u001b[0;34m(theta, co_array, post_array, nstars)\u001b[0m\n\u001b[1;32m    128\u001b[0m \u001b[0;34m\u001b[0m\u001b[0m\n\u001b[1;32m    129\u001b[0m     \u001b[0;31m#construct an array holding the likelihood probability for each individual star\u001b[0m\u001b[0;34m\u001b[0m\u001b[0;34m\u001b[0m\u001b[0m\n\u001b[0;32m--> 130\u001b[0;31m     \u001b[0mprob_ensemble\u001b[0m\u001b[0;34m=\u001b[0m\u001b[0mv_get_line_integral\u001b[0m\u001b[0;34m(\u001b[0m\u001b[0mstellar_indices\u001b[0m\u001b[0;34m,\u001b[0m\u001b[0mco_array\u001b[0m\u001b[0;34m,\u001b[0m\u001b[0mpost_array\u001b[0m\u001b[0;34m,\u001b[0m\u001b[0mdist_array\u001b[0m\u001b[0;34m,\u001b[0m\u001b[0mcoeff_array\u001b[0m\u001b[0;34m,\u001b[0m\u001b[0morder\u001b[0m\u001b[0;34m)\u001b[0m\u001b[0;34m\u001b[0m\u001b[0m\n\u001b[0m\u001b[1;32m    131\u001b[0m \u001b[0;34m\u001b[0m\u001b[0m\n\u001b[1;32m    132\u001b[0m     \u001b[0;31m#total log likelihood for all stars is the sum of the individual log likelihoods\u001b[0m\u001b[0;34m\u001b[0m\u001b[0;34m\u001b[0m\u001b[0m\n",
      "\u001b[0;32m//anaconda/lib/python3.5/site-packages/numpy/lib/function_base.py\u001b[0m in \u001b[0;36m__call__\u001b[0;34m(self, *args, **kwargs)\u001b[0m\n\u001b[1;32m   1809\u001b[0m             \u001b[0mvargs\u001b[0m\u001b[0;34m.\u001b[0m\u001b[0mextend\u001b[0m\u001b[0;34m(\u001b[0m\u001b[0;34m[\u001b[0m\u001b[0mkwargs\u001b[0m\u001b[0;34m[\u001b[0m\u001b[0m_n\u001b[0m\u001b[0;34m]\u001b[0m \u001b[0;32mfor\u001b[0m \u001b[0m_n\u001b[0m \u001b[0;32min\u001b[0m \u001b[0mnames\u001b[0m\u001b[0;34m]\u001b[0m\u001b[0;34m)\u001b[0m\u001b[0;34m\u001b[0m\u001b[0m\n\u001b[1;32m   1810\u001b[0m \u001b[0;34m\u001b[0m\u001b[0m\n\u001b[0;32m-> 1811\u001b[0;31m         \u001b[0;32mreturn\u001b[0m \u001b[0mself\u001b[0m\u001b[0;34m.\u001b[0m\u001b[0m_vectorize_call\u001b[0m\u001b[0;34m(\u001b[0m\u001b[0mfunc\u001b[0m\u001b[0;34m=\u001b[0m\u001b[0mfunc\u001b[0m\u001b[0;34m,\u001b[0m \u001b[0margs\u001b[0m\u001b[0;34m=\u001b[0m\u001b[0mvargs\u001b[0m\u001b[0;34m)\u001b[0m\u001b[0;34m\u001b[0m\u001b[0m\n\u001b[0m\u001b[1;32m   1812\u001b[0m \u001b[0;34m\u001b[0m\u001b[0m\n\u001b[1;32m   1813\u001b[0m     \u001b[0;32mdef\u001b[0m \u001b[0m_get_ufunc_and_otypes\u001b[0m\u001b[0;34m(\u001b[0m\u001b[0mself\u001b[0m\u001b[0;34m,\u001b[0m \u001b[0mfunc\u001b[0m\u001b[0;34m,\u001b[0m \u001b[0margs\u001b[0m\u001b[0;34m)\u001b[0m\u001b[0;34m:\u001b[0m\u001b[0;34m\u001b[0m\u001b[0m\n",
      "\u001b[0;32m//anaconda/lib/python3.5/site-packages/numpy/lib/function_base.py\u001b[0m in \u001b[0;36m_vectorize_call\u001b[0;34m(self, func, args)\u001b[0m\n\u001b[1;32m   1878\u001b[0m                       for _a in args]\n\u001b[1;32m   1879\u001b[0m \u001b[0;34m\u001b[0m\u001b[0m\n\u001b[0;32m-> 1880\u001b[0;31m             \u001b[0moutputs\u001b[0m \u001b[0;34m=\u001b[0m \u001b[0mufunc\u001b[0m\u001b[0;34m(\u001b[0m\u001b[0;34m*\u001b[0m\u001b[0minputs\u001b[0m\u001b[0;34m)\u001b[0m\u001b[0;34m\u001b[0m\u001b[0m\n\u001b[0m\u001b[1;32m   1881\u001b[0m \u001b[0;34m\u001b[0m\u001b[0m\n\u001b[1;32m   1882\u001b[0m             \u001b[0;32mif\u001b[0m \u001b[0mufunc\u001b[0m\u001b[0;34m.\u001b[0m\u001b[0mnout\u001b[0m \u001b[0;34m==\u001b[0m \u001b[0;36m1\u001b[0m\u001b[0;34m:\u001b[0m\u001b[0;34m\u001b[0m\u001b[0m\n",
      "\u001b[0;32m//anaconda/lib/python3.5/site-packages/numpy/lib/function_base.py\u001b[0m in \u001b[0;36mfunc\u001b[0;34m(*vargs)\u001b[0m\n\u001b[1;32m   1804\u001b[0m                     \u001b[0mthe_args\u001b[0m\u001b[0;34m[\u001b[0m\u001b[0m_i\u001b[0m\u001b[0;34m]\u001b[0m \u001b[0;34m=\u001b[0m \u001b[0mvargs\u001b[0m\u001b[0;34m[\u001b[0m\u001b[0m_n\u001b[0m\u001b[0;34m]\u001b[0m\u001b[0;34m\u001b[0m\u001b[0m\n\u001b[1;32m   1805\u001b[0m                 \u001b[0mkwargs\u001b[0m\u001b[0;34m.\u001b[0m\u001b[0mupdate\u001b[0m\u001b[0;34m(\u001b[0m\u001b[0mzip\u001b[0m\u001b[0;34m(\u001b[0m\u001b[0mnames\u001b[0m\u001b[0;34m,\u001b[0m \u001b[0mvargs\u001b[0m\u001b[0;34m[\u001b[0m\u001b[0mlen\u001b[0m\u001b[0;34m(\u001b[0m\u001b[0minds\u001b[0m\u001b[0;34m)\u001b[0m\u001b[0;34m:\u001b[0m\u001b[0;34m]\u001b[0m\u001b[0;34m)\u001b[0m\u001b[0;34m)\u001b[0m\u001b[0;34m\u001b[0m\u001b[0m\n\u001b[0;32m-> 1806\u001b[0;31m                 \u001b[0;32mreturn\u001b[0m \u001b[0mself\u001b[0m\u001b[0;34m.\u001b[0m\u001b[0mpyfunc\u001b[0m\u001b[0;34m(\u001b[0m\u001b[0;34m*\u001b[0m\u001b[0mthe_args\u001b[0m\u001b[0;34m,\u001b[0m \u001b[0;34m**\u001b[0m\u001b[0mkwargs\u001b[0m\u001b[0;34m)\u001b[0m\u001b[0;34m\u001b[0m\u001b[0m\n\u001b[0m\u001b[1;32m   1807\u001b[0m \u001b[0;34m\u001b[0m\u001b[0m\n\u001b[1;32m   1808\u001b[0m             \u001b[0mvargs\u001b[0m \u001b[0;34m=\u001b[0m \u001b[0;34m[\u001b[0m\u001b[0margs\u001b[0m\u001b[0;34m[\u001b[0m\u001b[0m_i\u001b[0m\u001b[0;34m]\u001b[0m \u001b[0;32mfor\u001b[0m \u001b[0m_i\u001b[0m \u001b[0;32min\u001b[0m \u001b[0minds\u001b[0m\u001b[0;34m]\u001b[0m\u001b[0;34m\u001b[0m\u001b[0m\n",
      "\u001b[0;32m/Users/catherinezucker/dustcurve/dustcurve/model.py\u001b[0m in \u001b[0;36mget_line_integral\u001b[0;34m(stellar_index, co_array, post_array, dist_array, coeff_array, order)\u001b[0m\n\u001b[1;32m     19\u001b[0m     \u001b[0mtest\u001b[0m\u001b[0;34m=\u001b[0m\u001b[0mdist_array\u001b[0m\u001b[0;34m\u001b[0m\u001b[0m\n\u001b[1;32m     20\u001b[0m \u001b[0;34m\u001b[0m\u001b[0m\n\u001b[0;32m---> 21\u001b[0;31m     \u001b[0mdbins\u001b[0m\u001b[0;34m,\u001b[0m \u001b[0mredbins\u001b[0m\u001b[0;34m=\u001b[0m\u001b[0mconvert_to_bins\u001b[0m\u001b[0;34m(\u001b[0m\u001b[0mco_array\u001b[0m\u001b[0;34m[\u001b[0m\u001b[0mstellar_index\u001b[0m\u001b[0;34m,\u001b[0m\u001b[0;34m:\u001b[0m\u001b[0;34m]\u001b[0m\u001b[0;34m[\u001b[0m\u001b[0morder\u001b[0m\u001b[0;34m]\u001b[0m\u001b[0;34m,\u001b[0m\u001b[0mdist_array\u001b[0m\u001b[0;34m,\u001b[0m \u001b[0mcoeff_array\u001b[0m\u001b[0;34m)\u001b[0m\u001b[0;34m\u001b[0m\u001b[0m\n\u001b[0m\u001b[1;32m     22\u001b[0m     \u001b[0mprobpath\u001b[0m\u001b[0;34m=\u001b[0m\u001b[0mflatten_prob_path\u001b[0m\u001b[0;34m(\u001b[0m\u001b[0mpost_array\u001b[0m\u001b[0;34m[\u001b[0m\u001b[0mstellar_index\u001b[0m\u001b[0;34m,\u001b[0m\u001b[0;34m:\u001b[0m\u001b[0;34m,\u001b[0m\u001b[0;34m:\u001b[0m\u001b[0;34m]\u001b[0m\u001b[0;34m,\u001b[0m\u001b[0mdbins\u001b[0m\u001b[0;34m,\u001b[0m\u001b[0mredbins\u001b[0m\u001b[0;34m)\u001b[0m\u001b[0;34m\u001b[0m\u001b[0m\n\u001b[1;32m     23\u001b[0m \u001b[0;34m\u001b[0m\u001b[0m\n",
      "\u001b[0;32m/Users/catherinezucker/dustcurve/dustcurve/model.py\u001b[0m in \u001b[0;36mconvert_to_bins\u001b[0;34m(co_star, dist_star, coeff_array)\u001b[0m\n\u001b[1;32m     37\u001b[0m     \u001b[0;31m#convert actual distance to a distance bin in the stellar posterior array\u001b[0m\u001b[0;34m\u001b[0m\u001b[0;34m\u001b[0m\u001b[0m\n\u001b[1;32m     38\u001b[0m     \u001b[0mdmin\u001b[0m\u001b[0;34m,\u001b[0m \u001b[0mdmu\u001b[0m\u001b[0;34m=\u001b[0m\u001b[0;34m(\u001b[0m\u001b[0;36m4.0\u001b[0m\u001b[0;34m,\u001b[0m \u001b[0;36m0.125\u001b[0m\u001b[0;34m)\u001b[0m\u001b[0;34m\u001b[0m\u001b[0m\n\u001b[0;32m---> 39\u001b[0;31m     \u001b[0mdbins\u001b[0m\u001b[0;34m=\u001b[0m\u001b[0mnp\u001b[0m\u001b[0;34m.\u001b[0m\u001b[0mdivide\u001b[0m\u001b[0;34m(\u001b[0m\u001b[0mnp\u001b[0m\u001b[0;34m.\u001b[0m\u001b[0msubtract\u001b[0m\u001b[0;34m(\u001b[0m\u001b[0mdist_array\u001b[0m\u001b[0;34m,\u001b[0m\u001b[0mdmin\u001b[0m\u001b[0;34m)\u001b[0m\u001b[0;34m,\u001b[0m\u001b[0mdmu\u001b[0m\u001b[0;34m)\u001b[0m\u001b[0;34m\u001b[0m\u001b[0m\n\u001b[0m\u001b[1;32m     40\u001b[0m     \u001b[0mdbins\u001b[0m\u001b[0;34m=\u001b[0m\u001b[0mdbins\u001b[0m\u001b[0;34m.\u001b[0m\u001b[0mastype\u001b[0m\u001b[0;34m(\u001b[0m\u001b[0mint\u001b[0m\u001b[0;34m)\u001b[0m\u001b[0;34m\u001b[0m\u001b[0m\n\u001b[1;32m     41\u001b[0m \u001b[0;34m\u001b[0m\u001b[0m\n",
      "\u001b[0;31mNameError\u001b[0m: name 'dist_array' is not defined"
     ]
    }
   ],
   "source": [
    "import emcee\n",
    "from dustcurve import model\n",
    "import seaborn as sns\n",
    "import numpy as np\n",
    "from dustcurve import pixclass\n",
    "from datetime import datetime\n",
    "\n",
    "start = datetime.now()\n",
    "\n",
    "# the model has 12 parameters; we'll use 50 walkers and 500 steps each\n",
    "ncoeff = 12\n",
    "ndist= 12\n",
    "ndim=24\n",
    "nwalkers = 30\n",
    "nsteps = 300\n",
    "\n",
    "#This MH Code has been adapted from code snippets found in the PHYS 201 week 9 MCMC notebook (written by Vinny and Tom) \n",
    "#and the PHYS 201 week 9 homework solutions (written by Tom and Kevin Shane)\n",
    "\n",
    "fname='simulated_data.h5'\n",
    "pixObj=pixclass.PixStars(fname)\n",
    "co_array=np.asarray(pixObj.get_co()[:,:])\n",
    "post_array=np.asarray(pixObj.get_p()[:,:,:])\n",
    "nstars=pixObj.get_n_stars()\n",
    "data=(co_array,post_array,nstars)\n",
    "\n",
    "sampler = emcee.MHSampler(np.diagflat(np.ones(ndim)), ndim, model.log_posterior, args=(data))\n",
    "\n",
    "allsamples = np.empty((1,ndim))\n",
    "pos_array=[np.random.randint(4,19) for i in range(ndist)] #set off walkers at random distances within acceptable range\n",
    "pos_array.extend([np.random.uniform(0.01,2) for i in range(ncoeff)]) #set off walkers at random values within acceptable gas to dust coefficient range given in literatre (0.03 mags of reddening per CO intensity unit K)\n",
    "std_array=[.1 for i in range(ndim)]\n",
    "starting_positions = emcee.utils.sample_ball((pos_array),(std_array),nwalkers) #set up the initial position vectors for our walkers\n",
    "\n",
    "# set up and run the sampler 30 different times, and create array of chains\n",
    "sampler.run_mcmc(starting_positions[0],nsteps)\n",
    "for i in range(nwalkers):\n",
    "        sampler.run_mcmc(sampler.chain[-1,:],nsteps)\n",
    "print('Done')\n",
    "\n",
    "fig, (ax_d7, ax_d11, ax_c7, ax_c11) = plt.subplots(4)\n",
    "ax_d7.set(ylabel='d7')\n",
    "ax_d11.set(ylabel='d11')\n",
    "ax_c7.set(ylabel='c7')\n",
    "ax_c11.set(ylabel='c11')\n",
    "\n",
    "sns.tsplot(sampler.chain[1000:,6], ax=ax_d7)\n",
    "sns.tsplot(sampler.chain[1000:,10], ax=ax_d11)\n",
    "sns.tsplot(sampler.chain[1000:,18], ax=ax_c7)\n",
    "sns.tsplot(sampler.chain[1000:,22], ax=ax_c11)\n",
    "    \n",
    "parameter_samples = pd.DataFrame({'d7': sampler.chain[1000:,6], 'd11': sampler.chain[1000:,10], 'c7': sampler.chain[1000:,18], 'c11': sampler.chain[1000:,22]})\n",
    "\n",
    "q = parameter_samples.quantile([0.16,0.50,0.84], axis=0)\n",
    "\n",
    "#what values do we get?\n",
    "print(\"d7 = {:.2f} + {:.2f} - {:.2f}\".format(q['d7'][0.50], \n",
    "                                            q['d7'][0.84]-q['d7'][0.50],\n",
    "                                            q['d7'][0.50]-q['d7'][0.16]))\n",
    "print(\"d11 = {:.2f} + {:.2f} - {:.2f}\".format(q['d11'][0.50], \n",
    "                                            q['d11'][0.84]-q['d11'][0.50],\n",
    "                                            q['d11'][0.50]-q['d11'][0.16]))\n",
    "\n",
    "print(\"c7 = {:.2f} + {:.2f} - {:.2f}\".format(q['c7'][0.50], \n",
    "                                            q['c7'][0.84]-q['c7'][0.50],\n",
    "                                            q['c7'][0.50]-q['c7'][0.16]))\n",
    "print(\"c11 = {:.2f} + {:.2f} - {:.2f}\".format(q['c11'][0.50], \n",
    "                                            q['c11'][0.84]-q['c11'][0.50],\n",
    "                                            q['c11'][0.50]-q['c11'][0.16]))\n",
    "\n",
    "\n",
    "print(datetime.now() - start)"
   ]
  },
  {
   "cell_type": "markdown",
   "metadata": {},
   "source": [
    "Success! Now we can move on to real data..."
   ]
  },
  {
   "cell_type": "code",
   "execution_count": null,
   "metadata": {
    "collapsed": true
   },
   "outputs": [],
   "source": []
  }
 ],
 "metadata": {
  "kernelspec": {
   "display_name": "Python 3",
   "language": "python",
   "name": "python3"
  },
  "language_info": {
   "codemirror_mode": {
    "name": "ipython",
    "version": 3
   },
   "file_extension": ".py",
   "mimetype": "text/x-python",
   "name": "python",
   "nbconvert_exporter": "python",
   "pygments_lexer": "ipython3",
   "version": "3.5.1"
  }
 },
 "nbformat": 4,
 "nbformat_minor": 0
}
