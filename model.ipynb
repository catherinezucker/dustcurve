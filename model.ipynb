{
 "cells": [
  {
   "cell_type": "markdown",
   "metadata": {},
   "source": [
    "We would like to infer the distance and gas-to-dust coefficient in thirty velocity slices of a spectral cube, covering the molecular cloud complex Cepheus. We would like to do this using the stellar photometry of stars towards Cepheus and the intensity of the carbon monoxide emission in each velocity slice of the spectral cube towards this same region. This is what we ultimately wish to infer: \n",
    "\n",
    "$$p(\\alpha \\mid I, m)$$ \n",
    "\n",
    "where $$\\alpha=(c_1, c_2, ..., c_k ; d_1, d_2, ... , d_k)$$ \n",
    "and...  \n",
    "$c$=gas-to-dust conversion coefficient (30 c's for 30 velocity slices)  \n",
    "$d$=distance to slice (30 d's for 30 velocity slices)  \n",
    "$I$= gas emission intensities that will act as dust templates, and which will be converted to extinction with a gas-to-dust coefficient  \n",
    "$m$= set of stellar photometry for all stars  \n",
    "\n",
    "By doing so, we'll be able to compare our dust-based distances to the velocity slices with the distances to the same slices given by a Galactic rotation curve. \n",
    "\n",
    "Our aim of inferring the distance and gas-to-dust coefficient for each velocity slice starts with inferring the distance and reddening for each individual star in our region of interest.  The probability density of finding an individual star j at distance $\\mu_j$ and with stellar fluxes $m_j$ is given by $p(\\mu_j, E_j | m_j)$ This probability density has already been precomputed in Green et al. 2015, using a kernel density estimate of MCMC samples. We parameterize the line-of-sight reddening profile towards an individual star, $E_j$, with the following model: \n",
    "\n",
    "$$E_{j} (\\mu_j, \\alpha)  = \\sum_{k \\rightarrow d_k < \\mu_j} I_{j,k} \\times c_k$$ \n",
    "\n",
    "with $I_{j,k}$= intensity of gas emission in the pixel corresponding to the jth star in the kth velocity slice and $c_k$= gas to dust conversion coefficient in the kth velocity slice, which we're letting float. We're summing over the emission in all the velocity slices such that the distance to the velocity slice is less than the distance to our star $\\mu$. The form of the reddening profile will be piecewise linear. There will be some uncertainties in the intensity values, but they will be negligible to the final analysis. The greater point of uncertainty is whether our parameterization of the reddening E is even a decent model, but we'll have to think more on that.\n",
    "\n",
    "So, going back to Bayes Rule, we know that: \n",
    "\n",
    "$$p(\\alpha \\mid I, m) \\propto p(I, m \\mid \\alpha) \\times p(\\alpha) \\propto p(I, m \\mid \\alpha) \\times p(c) \\times p(d)$$ \n",
    "\n",
    "with the first term, $p(I, m \\mid \\alpha)$, being our likelihood function and the second terms being our prior functions; we're assuming a flat prior for both c and d \n",
    "\n",
    "According to Green et al. 2014, the likelihood for an individual star is given by \n",
    "\n",
    "$$p(m_j \\mid \\alpha) \\propto \\int p(\\mu_j, E_j(\\mu_j; \\alpha) \\mid m_j) \\; d\\mu_j$$\n",
    "\n",
    "With the likelihood of the entire set of stars given by the product of the individual likelihoods. \n",
    "\n",
    "Where does this come from? We know that the likelihood of the set of stellar photometry also depends on the distance modulus to the star $\\mu$ and the stellar type $\\theta$, so we'll add those in and marginalize over them later. For the next few steps, we're going to drop the j subscript, since we know we're talking about a single star: \n",
    "\n",
    "$$p(m \\mid \\alpha) \\propto \\int d\\mu \\; d\\theta \\; p(m, \\mu, \\theta \\mid \\alpha)$$ \n",
    "$$\\propto \\int d\\mu \\; d\\theta \\; p(m \\mid  \\mu, \\theta, \\alpha) p(\\mu, \\theta \\mid \\alpha)$$\n",
    "$$\\propto \\int d\\mu \\; d\\theta \\; p(m \\mid \\mu, \\theta, E(\\mu;\\alpha))p(\\mu, \\theta)$$\n",
    "\n",
    "In the last step, we are assuming that the reddening profile extinction is defined by the $\\alpha$ parameters; we are also assuming that the join prior on distance $\\mu$ and stellar type $\\theta$ are independent of E. \n",
    "\n",
    "The integrand in the last equation is basically (up to a normalizing constant) a prior times a likelihood, so our likelihood is essentially the integral of the posterior density $p(\\mu,E, \\theta \\mid m)$ \n",
    "\n",
    "However, we don't really care about stellar type, so we are going to marginalize over it; adding back in the j subscript, for the jth star, this leaves us with... \n",
    "\n",
    "$$p(m_j \\mid \\alpha) \\propto \\int p(\\mu_j, E_j(\\mu_j; \\alpha) \\mid m_j)\\; d\\mu_j$$\n",
    "\n",
    "Now understanding where this expression comes, we can put everything together and determine the posterior probability density of the $\\alpha$ parameters by taking the product over line integrals through the individual stellar probability density functions (already precomputed), along the reddening profile for the star, $E_j (\\mu_j; \\alpha)$: \n",
    "\n",
    "$$p(\\alpha \\mid I, m) \\propto p(c) \\times p(d) \\prod_j \\int p(\\mu_j, E_j(\\mu_j; \\alpha) \\mid m_j, I) \\; d\\mu_j$$\n",
    "\n",
    "This is what what we'll ultimately have to sample from, using Metropolis-Hastings MCMC analysis. "
   ]
  },
  {
   "cell_type": "markdown",
   "metadata": {
    "collapsed": true
   },
   "source": [
    "Now we need to do some code testing using simulated data, to ensure that our code is functioning properly. To do this, we need to produce simulated data such that we know what the \"true\" answer is for the parameter estimation problem we are trying to solve. To do this, I am going to create a reddening \"profile\" or a plot of the cumulative reddening as a function of distance. In this profile, there are going to be two clouds along the line of sight, corresponding to two jumps in reddening in our reddening profile. We are going to have our reddening profile look like this: \n"
   ]
  },
  {
   "cell_type": "code",
   "execution_count": 2,
   "metadata": {
    "collapsed": false
   },
   "outputs": [
    {
     "data": {
      "text/plain": [
       "<matplotlib.text.Text at 0x1119e40f0>"
      ]
     },
     "execution_count": 2,
     "metadata": {},
     "output_type": "execute_result"
    },
    {
     "data": {
      "image/png": "[encoded data removed]",
      "text/plain": [
       "<matplotlib.figure.Figure at 0x1025e80b8>"
      ]
     },
     "metadata": {},
     "output_type": "display_data"
    }
   ],
   "source": [
    "import numpy as np\n",
    "import matplotlib.pyplot as plt\n",
    "%matplotlib inline\n",
    "\n",
    "distance=np.array([4,7.75,7.75,14,14,19])\n",
    "fake_reddening=np.array([0,0,2,2,5,5])\n",
    "\n",
    "plt.plot(distance, fake_reddening,lw=5)\n",
    "plt.xlabel(r'Distance Modulus')\n",
    "plt.ylabel('Reddening')\n",
    "plt.xlim(4,19)\n",
    "plt.ylim(0,7)\n",
    "plt.title(\"Our Contrived Reddening Profile\")"
   ]
  },
  {
   "cell_type": "markdown",
   "metadata": {
    "collapsed": true
   },
   "source": [
    "From the reddening profile, we can tell that this is a two cloud model towards a specific line of sight. We see that there are no clouds (and thus no reddening) between a distance modulus of 4 and 7.75. Then, we see that there's a cloud of dust at 7.75 which adds 2 magnitudes of reddening to our profile. Then we see that there's a second dust cloud at a distance modulus of 14 that adds 3 magnitudes of reddening to our profile, bringing our cumulative reddening at distance modulus 14 and beyond up to 5 magnitudes. "
   ]
  },
  {
   "cell_type": "markdown",
   "metadata": {},
   "source": [
    "So, now we need to produce some stellar posterior data (700x120 arrays of reddening vs. distance) to match our contrived profile. To do this, we are going to randomly sprinkle 50 stars along the line of sight. Since we are working with stellar posterior arrays, we are going to mentally convert everything from actual distance/reddening to distance and reddening bins in the stellar posterior arrays. Axis 0 of the array (the vertical axis) has a reddening range from 0-7 magnitudes, $\\Delta_{reddening}$=0.01 magnitudes (total of 700 bins). Axis 0 of the array (the horizontal axis) has a distance modulus range from 4-19, so $\\Delta_{distmod}$=0.125 (total of 120 bins). Our clouds in our contrived reddening profile correspond to distance modulus bins of 30 and 80, and reddening bins of 200 and 500. So now we randomly sprinkle 50 stars along the distance axis of the array, and then look up the reddening those stars should have based on our reddening profile. To produce the posterior for a single star we draw 1000 random samples from bivariate normal distribution with a mean centered at the randomly generated distance and the corresponding reddening value given by the reddening profile. We let the standard deviation of the bivariate normal distribution be 0.1 in both distance and reddenings, resulting in \"puffy\" clouds. We then use the samples to populate a 2D histogram, which is now my 700x120 stellar posterior array for a single star. We repeat this 49 more times for 49 more stars. This is how we code that: "
   ]
  },
  {
   "cell_type": "code",
   "execution_count": 9,
   "metadata": {
    "collapsed": false
   },
   "outputs": [],
   "source": [
    "import pandas as pd\n",
    "\n",
    "nstars=50\n",
    "\n",
    "#randomly sprinkle 50 stars at 50 distances along the posterior horizontal axis (total bins=120)\n",
    "randdist=np.random.randint(0,119,50)\n",
    "\n",
    "#create our array to hold the corresponding reddening values taken from our contrived reddening profile \n",
    "red=np.empty(nstars)\n",
    "\n",
    "for i in range(0,nstars):\n",
    "    if randdist[i] < 30: #no clouds at a distance modulus bin <30, so reddening is zero\n",
    "        red[i]=0\n",
    "    \n",
    "    if randdist[i] >= 30 and randdist[i] < 80: #one cloud between distance modulus bin of 30-80 (with reddening=2 mags)\n",
    "        red[i]=200\n",
    "    \n",
    "    if randdist[i] >= 80: #two cloud between distance modulus bin of 80-120 (with cumulative reddening=5 mags)\n",
    "        red[i]=500\n",
    "\n",
    "#create array to hold our stellar posterior information \n",
    "post_array=np.empty((nstars,700,120))\n",
    "\n",
    "#repeat 50 times for 50 stars\n",
    "for i in range(0,nstars):\n",
    "    mean=np.array([randdist[i],red[i]]) #mean of bivariate normal distribution set to random distance and corresponding reddening value\n",
    "    cov=np.array([[100,0],[0,16]]) #standard deviations of 0.1 in both reddening and distance modulus, converted to the number of bins that corresponds to on each axis\n",
    "    data = np.random.multivariate_normal(mean, cov, 1000) #draw samples from that distribution\n",
    "    df = pd.DataFrame(data, columns=[\"mu\", \"E\"])\n",
    "    H, yedges, xedges = np.histogram2d(df['E'],df['mu'],bins=[700,120], range=[[0, 700], [0, 120]]) #use those samples to create 2dhistogram, our stellar posterior!\n",
    "    post_array[i,:,:]=H #store the posterior array for that star\n"
   ]
  },
  {
   "cell_type": "markdown",
   "metadata": {},
   "source": [
    "Now we are going to make some fake CO (carbon monoxide) data to go with our fake stellar posteriors. We have 12 CO intensity values for each star (for 12 CO velocity slices). The set of intensity values will be the same for each star, since they are all presumed to be along the same line of sight. Our fake reddening profile corresponds to two clouds (two CO emission features) at two different velocity slices. The first cloud has a reddening of 2 magnitudes, producing a cumulative reddening of 2 magnitudes. The second cloud has a reddening of 3 magnitudes, producing a cumulative reddening of 5 magnitudes (3 from itself and 2 from the other cloud). Setting our gas to dust coefficient to one for testing purposes, this means that we need to set one slice to CO intensity (\"CO_I\") value of 2 and the second slice to a CO intensity value of 3. All the other velocity slice intensities will be set to zero, because we are assuming there are only two clouds in all the slices. \n",
    "\n",
    "It doesn't really matter which two slices we put our clouds in (it only matters what distances our parameter estimation problem gives us for the two slices). Thus, let's put the first cloud (CO_I=2) in velocity slice 7 and our second cloud (CO_I=3) in velocity slice 11.  So for a single star, our CO intensities for velocity slices 1-12 look like this: [0,0,0,0,0,0,2,0,0,0,3,0,0]. Now we have a stellar posterior array and a CO intensity array for every star. We write all this information out into a \"simulated_data.h5\" file:"
   ]
  },
  {
   "cell_type": "code",
   "execution_count": null,
   "metadata": {
    "collapsed": true
   },
   "outputs": [],
   "source": [
    "fwrite = h5py.File(\"simulated_data.h5\", \"w\")\n",
    "pdfs = fwrite.create_dataset(\"pixel0000/stellar_pdfs\", (nstars,700,120), dtype='f')\n",
    "pdfs[:,:,:]=post_array #write our stellar posterior arrays calculated above to an hdf5 dataset\n",
    "\n",
    "intensity=np.array([0,0,0,0,0,0,2,0,0,0,3,0]) #our identical CO array for every star\n",
    "\n",
    "co_array=np.empty((nstars,12)) \n",
    "\n",
    "for i in range(0,nstars):\n",
    "    co_array[i,:]=intensity\n",
    "\n",
    "co_data = fwrite.create_dataset(\"pixel0000/co_data\", (nstars,nslices), dtype='f')\n",
    "co_data[:,:]=co_array #write our co arrays to an hdf5 dataset\n",
    "\n",
    "fwrite.close()"
   ]
  },
  {
   "cell_type": "markdown",
   "metadata": {},
   "source": [
    "Based on our stellar posterior and CO data, we know what the values of d7 (the distance to velocity slice 7) and d11 (the distance to velocity slice 11) SHOULD be. D7 needs to be before D11, at a distance modulus of 7.75 and D11 needs to be at a distance modulus of 14. Having those velocity slices correspond to those distances will produce the highest value of the line integral along our reddening profile (see initial reddening profile figure), which is essentially our likelihood function. Affine-Invariant sampling failed tremendously for this problem, so we are going to use Metropolis-Hastings MCMC because this produces well mixed chains. To ensure that we aren't getting the \"right\" answer by chance, we are going to set our walkers off near completely random integers within our allowable distance modulus range, using pos_array=[np.random.randint(4,19) for i in range(ndim)]. If our walkers can find their way back to the \"true\" values of their slices (d7=7.75 and d11=14) we know our code works. It doesn't have to be *exact* (because we'd need a lot more simulated stars along the line of sight to make it perfect) but it does have to be close. Here we go..."
   ]
  },
  {
   "cell_type": "code",
   "execution_count": null,
   "metadata": {
    "collapsed": true
   },
   "outputs": [],
   "source": [
    "# the model has 12 parameters; we'll use 50 walkers and 500 steps each\n",
    "ndim = 12\n",
    "nwalkers = 50\n",
    "nsteps = 500\n",
    "\n",
    "#This MH Code has been adapted from code snippets found in the PHYS 201 week 9 MCMC notebook (written by Vinny and Tom) \n",
    "#and the PHYS 201 week 9 homework solutions (written by Tom and Kevin Shane)\n",
    "sampler = emcee.MHSampler(np.diagflat(np.ones(ndim)), ndim, model.log_posterior, args=('simulated_data.h5', 'pixel0000'))\n",
    "\n",
    "allsamples = np.empty((0,ndim))\n",
    "pos_array=[np.random.randint(4,19) for i in range(ndim)]\n",
    "std_array=[0.1 for i in range(ndim)]\n",
    "starting_positions = emcee.utils.sample_ball((pos_array),(std_array),nwalkers) #set up the initial position vectors for our walkers\n",
    "\n",
    "# set up and run the sampler 50 different times, and concatenate our mcmc chain. \n",
    "for i in range(nwalkers):\n",
    "    sampler.run_mcmc(starting_positions[i], nsteps)\n",
    "    allsamples = np.vstack((allsamples,sampler.chain[100:,:]))\n",
    "print('Done')\n",
    "\n",
    "fig, (ax_d7, ax_d11) = plt.subplots(2)\n",
    "\n",
    "ax_d7.set(ylabel='d7')\n",
    "ax_d11.set(ylabel='d11')\n",
    "\n",
    "#check to make sure chains are well mixed\n",
    "sns.tsplot(allsamples[:,6], ax=ax_d7)\n",
    "sns.tsplot(allsamples[:,10], ax=ax_d11)\n",
    "\n",
    "parameter_samples = pd.DataFrame({'d7': allsamples[:,6], 'd11': allsamples[:,10]})\n",
    "\n",
    "#what values do we get?\n",
    "print(\"d7 = {:.2f} + {:.2f} - {:.2f}\".format(q['d7'][0.50], \n",
    "                                            q['d7'][0.84]-q['d7'][0.50],\n",
    "                                            q['d7'][0.50]-q['d7'][0.16]))\n",
    "print(\"d11 = {:.2f} + {:.2f} - {:.2f}\".format(q['d11'][0.50], \n",
    "                                            q['d11'][0.84]-q['d11'][0.50],\n",
    "                                            q['d11'][0.50]-q['d11'][0.16]))"
   ]
  }
 ],
 "metadata": {
  "kernelspec": {
   "display_name": "Python 3",
   "language": "python",
   "name": "python3"
  },
  "language_info": {
   "codemirror_mode": {
    "name": "ipython",
    "version": 3
   },
   "file_extension": ".py",
   "mimetype": "text/x-python",
   "name": "python",
   "nbconvert_exporter": "python",
   "pygments_lexer": "ipython3",
   "version": "3.5.1"
  }
 },
 "nbformat": 4,
 "nbformat_minor": 0
}
